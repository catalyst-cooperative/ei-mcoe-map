{
 "cells": [
  {
   "cell_type": "markdown",
   "metadata": {},
   "source": [
    "## Energy Innovation MCOE Compilation\n",
    "\n",
    "- <a href=#setup>Setup</a>\n",
    "- <a href=#data_out>Data Outputs</a>\n",
    "    * <a href=#final-plant>Plant Level Output</a>\n",
    "    * <a href=#final-unit>Unit Level Output</a>\n",
    "    * <a href=#export>Export to CSV</a>\n",
    "- <a href=#data_comp>Data Components</a>\n",
    "    * <a href=#part1>Part 1: Basic Plant & Unit Information</a>\n",
    "    * <a href=#part2>Part 2: Cost Data</a>\n",
    "    * <a href=#part3>Part 3: Emissions & Public Health Data</a>\n",
    "- <a href=#data_val>Data Validation</a>\n",
    "    * <a href=#ferc-v-eia>FERC Form 1 vs. EIA</a>\n",
    "    * <a href=#mcoe-validate>MCOE Validation</a>"
   ]
  },
  {
   "cell_type": "markdown",
   "metadata": {},
   "source": [
    "-------------"
   ]
  },
  {
   "cell_type": "markdown",
   "metadata": {},
   "source": [
    "## <a id='setup'>Setup</a>"
   ]
  },
  {
   "cell_type": "code",
   "execution_count": 1,
   "metadata": {},
   "outputs": [],
   "source": [
    "%load_ext autoreload\n",
    "%autoreload 2"
   ]
  },
  {
   "cell_type": "code",
   "execution_count": 20,
   "metadata": {},
   "outputs": [],
   "source": [
    "import pudl\n",
    "import sqlalchemy as sa\n",
    "from ei_mcoe import *\n",
    "import sys\n",
    "import os\n",
    "import matplotlib.pyplot as plt\n",
    "import logging\n",
    "from datetime import datetime\n",
    "\n",
    "from copy import deepcopy"
   ]
  },
  {
   "cell_type": "code",
   "execution_count": 3,
   "metadata": {},
   "outputs": [],
   "source": [
    "# basic setup for logging\n",
    "logger = logging.getLogger()\n",
    "logger.setLevel(logging.INFO)\n",
    "handler = logging.StreamHandler(stream=sys.stdout)\n",
    "formatter = logging.Formatter('%(message)s')\n",
    "handler.setFormatter(formatter)\n",
    "logger.handlers = [handler]\n",
    "pd.options.display.max_columns = None"
   ]
  },
  {
   "cell_type": "code",
   "execution_count": 4,
   "metadata": {},
   "outputs": [],
   "source": [
    "pudl_settings = pudl.workspace.setup.get_defaults()\n",
    "pudl_engine = sa.create_engine(pudl_settings['pudl_db'])"
   ]
  },
  {
   "cell_type": "code",
   "execution_count": 5,
   "metadata": {},
   "outputs": [],
   "source": [
    "pudl_out = pudl.output.pudltabl.PudlTabl(\n",
    "    pudl_engine,\n",
    "    start_date='2019-01-01',\n",
    "    freq='AS',\n",
    "    fill_fuel_cost=True,\n",
    "    roll_fuel_cost=True,\n",
    "    fill_net_gen=False,\n",
    ")"
   ]
  },
  {
   "cell_type": "markdown",
   "metadata": {},
   "source": [
    "## <a id='data_out'>Data Outputs</a>"
   ]
  },
  {
   "cell_type": "code",
   "execution_count": 6,
   "metadata": {},
   "outputs": [
    {
     "name": "stdout",
     "output_type": "stream",
     "text": [
      "Getting CEMS data....this may take a sec.\n"
     ]
    },
    {
     "name": "stderr",
     "output_type": "stream",
     "text": [
      "/Users/christinagosnell/miniconda3/envs/pudl-dev/lib/python3.9/site-packages/distributed/node.py:160: UserWarning: Port 8787 is already in use.\n",
      "Perhaps you already have a cluster running?\n",
      "Hosting the HTTP server on port 60566 instead\n",
      "  warnings.warn(\n"
     ]
    },
    {
     "name": "stdout",
     "output_type": "stream",
     "text": [
      "CPU times: user 4.3 s, sys: 1.2 s, total: 5.5 s\n",
      "Wall time: 42.1 s\n"
     ]
    }
   ],
   "source": [
    "%%time\n",
    "cems_df = get_cems(pudl_settings, years=[2019, 2020])"
   ]
  },
  {
   "cell_type": "markdown",
   "metadata": {},
   "source": [
    "### <a id='final-plant'>Plant Level Output</a>"
   ]
  },
  {
   "cell_type": "code",
   "execution_count": 7,
   "metadata": {
    "tags": []
   },
   "outputs": [
    {
     "name": "stdout",
     "output_type": "stream",
     "text": [
      "Prepping raw EIA data\n",
      "filling in fuel cost NaNs EIA APIs monthly state averages\n",
      "filling in fuel cost NaNs with rolling averages\n"
     ]
    },
    {
     "name": "stderr",
     "output_type": "stream",
     "text": [
      "/Users/christinagosnell/miniconda3/envs/pudl-dev/lib/python3.9/site-packages/pandas/core/reshape/merge.py:784: PerformanceWarning: DataFrame is highly fragmented.  This is usually the result of calling `frame.insert` many times, which has poor performance.  Consider joining all columns at once using pd.concat(axis=1) instead.  To get a de-fragmented frame, use `newframe = frame.copy()`\n",
      "  result[self.indicator_name] = Categorical(\n"
     ]
    },
    {
     "name": "stdout",
     "output_type": "stream",
     "text": [
      "Converting date to year\n",
      "Calculating generator age\n",
      "Converting date to year\n",
      "Building Part 1 output\n"
     ]
    },
    {
     "name": "stderr",
     "output_type": "stream",
     "text": [
      "/Users/christinagosnell/code/ei-mcoe-map/ei_mcoe.py:782: PerformanceWarning: DataFrame is highly fragmented.  This is usually the result of calling `frame.insert` many times, which has poor performance.  Consider joining all columns at once using pd.concat(axis=1) instead.  To get a de-fragmented frame, use `newframe = frame.copy()`\n",
      "  df['_data_times_weight'] = df[data_col] * df[weight_col]\n",
      "/Users/christinagosnell/code/ei-mcoe-map/ei_mcoe.py:783: PerformanceWarning: DataFrame is highly fragmented.  This is usually the result of calling `frame.insert` many times, which has poor performance.  Consider joining all columns at once using pd.concat(axis=1) instead.  To get a de-fragmented frame, use `newframe = frame.copy()`\n",
      "  df['_weight_where_notnull'] = df.loc[df[data_col].notnull(), weight_col]\n"
     ]
    },
    {
     "name": "stdout",
     "output_type": "stream",
     "text": [
      "Finished compiling Part 1 plant-fuel level data\n",
      "Cleaning Part 1 Output\n",
      "Finished cleaning Part 1 data\n",
      "Building Part 3 output\n",
      " - Adding cems to EIA data\n",
      " - Adding pm values to the dataframe\n",
      " -- Calculating tech percents\n",
      " -- Calculating pm2.5 values\n",
      " - Calculating public health damages from emissions\n"
     ]
    },
    {
     "name": "stderr",
     "output_type": "stream",
     "text": [
      "/Users/christinagosnell/code/ei-mcoe-map/ei_mcoe.py:2041: FutureWarning: Indexing with multiple keys (implicitly converted to a tuple of keys) will be deprecated, use a list instead.\n",
      "  pm_df.assign(\n"
     ]
    },
    {
     "name": "stdout",
     "output_type": "stream",
     "text": [
      " - Calculating the amount of premature deaths\n",
      "Finished building Part 3 plant-fuel level data\n",
      "Cleaning Part 3 output\n",
      "Finished cleaning Part 3 output\n",
      "Building Part 2 output\n",
      " - Building eia table broken down by plant and fuel type\n",
      " - Building FERC table broken down by plant\n",
      " - Readying EIA fuel pct data to merge with FERC\n",
      " - Building eia table broken down by plant and fuel type\n",
      " -- Calculating eia fuel type percentages\n",
      "Turning eia fuel percent values for net_generation_mwh into columns\n",
      "Turning eia fuel percent values for capacity_mw into columns\n",
      " - Merging FERC Form 1 data with EIA percent data\n",
      " -- Building FERC table broken down by plant and fuel type\n",
      " -- Melting FERC pct data back to row values\n",
      " -- Melting FERC pct data back to row values\n",
      " - Merging FERC and EIA mcoe data on plant and fuel type\n",
      " - Adding NEMS cost data\n",
      "checking nems inside add_nems\n",
      "Id's from NEMS:    5495\n",
      "Ids w/ NEMS data:  0\n",
      "Ids w/o NEMS data: 10130\n",
      "Missing ids:       5273\n",
      "checking nems inside build_part2_output\n",
      "Id's from NEMS:    5495\n",
      "Ids w/ NEMS data:  0\n",
      "Ids w/o NEMS data: 10130\n",
      "Missing ids:       5273\n",
      " - Comparing heat rates internally\n",
      "Building Part 1 output\n"
     ]
    },
    {
     "name": "stderr",
     "output_type": "stream",
     "text": [
      "/Users/christinagosnell/code/ei-mcoe-map/ei_mcoe.py:782: PerformanceWarning: DataFrame is highly fragmented.  This is usually the result of calling `frame.insert` many times, which has poor performance.  Consider joining all columns at once using pd.concat(axis=1) instead.  To get a de-fragmented frame, use `newframe = frame.copy()`\n",
      "  df['_data_times_weight'] = df[data_col] * df[weight_col]\n",
      "/Users/christinagosnell/code/ei-mcoe-map/ei_mcoe.py:783: PerformanceWarning: DataFrame is highly fragmented.  This is usually the result of calling `frame.insert` many times, which has poor performance.  Consider joining all columns at once using pd.concat(axis=1) instead.  To get a de-fragmented frame, use `newframe = frame.copy()`\n",
      "  df['_weight_where_notnull'] = df.loc[df[data_col].notnull(), weight_col]\n"
     ]
    },
    {
     "name": "stdout",
     "output_type": "stream",
     "text": [
      "Finished compiling Part 1 unit-fuel level data\n",
      "preparing merge: checking df length compatability\n",
      "df passed not the same length as plant-level aggreation df;                    check for duplicates\n",
      "Finished compiling Part 2 data compilation\n",
      "Cleaning Part 2 output\n",
      "inserting 80% fixed/var ratio for 10982 records\n",
      "Calculate MCOE.\n",
      "Finished cleaning Part 2 data\n",
      "Assigned state FIPS codes for 99.96% of records.\n",
      "Assigned county FIPS codes for 93.86% of records.\n",
      "Finished compiling all parts!\n"
     ]
    }
   ],
   "source": [
    "%%time\n",
    "# beware - this takes several minutes run!!\n",
    "mcoe_plant = main(pudl_out, cems_df, 'plant-fuel', separate_nems_cols=True, fill_in_fuel_cost=True)"
   ]
  },
  {
   "cell_type": "code",
   "execution_count": 23,
   "metadata": {},
   "outputs": [
    {
     "data": {
      "text/html": [
       "<div>\n",
       "<style scoped>\n",
       "    .dataframe tbody tr th:only-of-type {\n",
       "        vertical-align: middle;\n",
       "    }\n",
       "\n",
       "    .dataframe tbody tr th {\n",
       "        vertical-align: top;\n",
       "    }\n",
       "\n",
       "    .dataframe thead th {\n",
       "        text-align: right;\n",
       "    }\n",
       "</style>\n",
       "<table border=\"1\" class=\"dataframe\">\n",
       "  <thead>\n",
       "    <tr style=\"text-align: right;\">\n",
       "      <th></th>\n",
       "      <th>plant_id_eia</th>\n",
       "    </tr>\n",
       "    <tr>\n",
       "      <th>confidence_tier</th>\n",
       "      <th></th>\n",
       "    </tr>\n",
       "  </thead>\n",
       "  <tbody>\n",
       "    <tr>\n",
       "      <th>1.0</th>\n",
       "      <td>113</td>\n",
       "    </tr>\n",
       "    <tr>\n",
       "      <th>2.0</th>\n",
       "      <td>71</td>\n",
       "    </tr>\n",
       "    <tr>\n",
       "      <th>3.0</th>\n",
       "      <td>33</td>\n",
       "    </tr>\n",
       "    <tr>\n",
       "      <th>4.0</th>\n",
       "      <td>3</td>\n",
       "    </tr>\n",
       "    <tr>\n",
       "      <th>5.0</th>\n",
       "      <td>11</td>\n",
       "    </tr>\n",
       "    <tr>\n",
       "      <th>6.0</th>\n",
       "      <td>26</td>\n",
       "    </tr>\n",
       "    <tr>\n",
       "      <th>NaN</th>\n",
       "      <td>34</td>\n",
       "    </tr>\n",
       "  </tbody>\n",
       "</table>\n",
       "</div>"
      ],
      "text/plain": [
       "                 plant_id_eia\n",
       "confidence_tier              \n",
       "1.0                       113\n",
       "2.0                        71\n",
       "3.0                        33\n",
       "4.0                         3\n",
       "5.0                        11\n",
       "6.0                        26\n",
       "NaN                        34"
      ]
     },
     "execution_count": 23,
     "metadata": {},
     "output_type": "execute_result"
    }
   ],
   "source": [
    "mcoe_plant[(mcoe_plant.report_date.dt.year == NEMS_YEAR)\n",
    "           & (mcoe_plant.fuel_type_code_pudl == 'coal')\n",
    "          ].groupby(['confidence_tier'], dropna=False)[['plant_id_eia']].count()"
   ]
  },
  {
   "cell_type": "markdown",
   "metadata": {},
   "source": [
    "### <a id='final-unit'>Unit Level Output</a>"
   ]
  },
  {
   "cell_type": "code",
   "execution_count": null,
   "metadata": {},
   "outputs": [],
   "source": [
    "#unit = main(pudl_out, cems_df, 'unit-fuel', separate_nems_cols=True)"
   ]
  },
  {
   "cell_type": "markdown",
   "metadata": {},
   "source": [
    "### <a id='export'>Export to CSV</a>"
   ]
  },
  {
   "cell_type": "code",
   "execution_count": 19,
   "metadata": {},
   "outputs": [
    {
     "name": "stdout",
     "output_type": "stream",
     "text": [
      "Generating separate source dataframe\n"
     ]
    },
    {
     "ename": "NameError",
     "evalue": "name 'datetime' is not defined",
     "output_type": "error",
     "traceback": [
      "\u001b[0;31m---------------------------------------------------------------------------\u001b[0m",
      "\u001b[0;31mNameError\u001b[0m                                 Traceback (most recent call last)",
      "\u001b[0;32m/var/folders/p8/v3s4wmyd75v5gjb636r5bvl80000gq/T/ipykernel_37527/1328990514.py\u001b[0m in \u001b[0;36m<module>\u001b[0;34m\u001b[0m\n\u001b[1;32m      2\u001b[0m \u001b[0msource_df\u001b[0m \u001b[0;34m=\u001b[0m \u001b[0mgenerate_source_df\u001b[0m\u001b[0;34m(\u001b[0m\u001b[0;34m)\u001b[0m\u001b[0;34m\u001b[0m\u001b[0;34m\u001b[0m\u001b[0m\n\u001b[1;32m      3\u001b[0m \u001b[0;34m\u001b[0m\u001b[0m\n\u001b[0;32m----> 4\u001b[0;31m \u001b[0mmcoe_plant_19\u001b[0m\u001b[0;34m.\u001b[0m\u001b[0mto_csv\u001b[0m\u001b[0;34m(\u001b[0m\u001b[0;34mf\"mcoe_compilation_2019-{datetime.today().strftime('%Y-%m-%d')}.csv\"\u001b[0m\u001b[0;34m,\u001b[0m\u001b[0mindex\u001b[0m\u001b[0;34m=\u001b[0m\u001b[0;32mFalse\u001b[0m\u001b[0;34m)\u001b[0m\u001b[0;34m\u001b[0m\u001b[0;34m\u001b[0m\u001b[0m\n\u001b[0m\u001b[1;32m      5\u001b[0m \u001b[0msource_df\u001b[0m\u001b[0;34m.\u001b[0m\u001b[0mto_csv\u001b[0m\u001b[0;34m(\u001b[0m\u001b[0;34m'mcoe_documentation.csv'\u001b[0m\u001b[0;34m,\u001b[0m\u001b[0mindex\u001b[0m\u001b[0;34m=\u001b[0m\u001b[0;32mFalse\u001b[0m\u001b[0;34m)\u001b[0m\u001b[0;34m\u001b[0m\u001b[0;34m\u001b[0m\u001b[0m\n",
      "\u001b[0;31mNameError\u001b[0m: name 'datetime' is not defined"
     ]
    }
   ],
   "source": [
    "mcoe_plant_19 = mcoe_plant[mcoe_plant.report_year == NEMS_YEAR]\n",
    "source_df = generate_source_df()\n",
    "\n",
    "mcoe_plant_19.to_csv(f\"mcoe_compilation_2019-{datetime.today().strftime('%Y-%m-%d')}.csv\",index=False)\n",
    "source_df.to_csv('mcoe_documentation.csv',index=False)"
   ]
  },
  {
   "cell_type": "markdown",
   "metadata": {},
   "source": [
    "-------------------------"
   ]
  },
  {
   "cell_type": "markdown",
   "metadata": {},
   "source": [
    "## <a id='data_comp'>Data Components</a>"
   ]
  },
  {
   "cell_type": "markdown",
   "metadata": {},
   "source": [
    "### <a id='part1'>Part 1: Plant & Unit Level Data</a>\n",
    "EIA-860 and EIA-923 generator-level data is aggregated by either plant or unit and subdivided by broad fuel type (coal, gas, oil, waste). \n",
    "[`Age`] is calculated by finding the weighted average (capacity as weight) of the generators in a given aggregation. \n",
    "[`Heat Rate`] is also calculated by weighted average (this time with net generation as weight). \n",
    "[`MW Nameplate Capacity`] and [`Annual Electricity Net Generation MWh`] at a given level of aggregation are calculated by summing generator-level data. \n",
    "\n",
    "For purely qualitative information (just plant name and location) add [`drop_calcs=True`] to the parameters.\n",
    "\n",
    "### <a id='part2'>Part 2: Cost Data</a>\n",
    "Cost and generation data from EIA-860, EIA-923, and FERC Form 1 are subdivided by plant and broad fuel type. The fuel-type breakdown for FERC Form 1 plants is determined by the EIA fuel breakdown for plants of the same PUDL Plant Code. For missing fixed and variable costs from 2018, we've input data from NEMS as a subsitutde. MCOE is calculated using data from the following sources:\n",
    "\n",
    "##### NEMS Variable Origins\n",
    "- net_generation_mwh_nems = capacity_factor * 8760 * capacity_mw\n",
    "- fixed_om_18_nems = fixed_om_kw_18_nems * 1000 * capacity_mw\n",
    "- fixed_om_mwh_18_nems = fixed_om_18_nems / net_generation_mwh_nems\n",
    "- variable_om_18_nems = variable_om_mwh_18_nems * net_generation_mwh_nems\n",
    "- fix_var_om_mwh_18_nems = variable_om_mwh_18_nems + fixed_om_kw_18_nems\n",
    "- fixed_v_total_ratio = fixed_om_18_nems / (fixed_om_18_nems + variable_om_18_nems)\n",
    "- var_v_total_ratio = variable_om_18_nems / (fixed_om_18_nems + variable_om_18_nems)\n",
    "- fix_var_om_18_nems =  fixed_om_18_nems + variable_om_18_nems\n",
    "- fix_var_om_mwh_18_nems = fixed_om_mwh_18_nems + variable_om_mwh_18_nems\n",
    "\n",
    "##### MCOE Variable Origins \n",
    "- total_fuel_cost (Fuel cost) **EIA-923**\n",
    "- capacity_mw (MW Capacity) **EIA-860**\n",
    "- net_generation_mwh (Net MWh Generated) **EIA-923**: \n",
    "- opex_nofuel_ferc1 (Non-Fuel O&M) = **FERC Form 1**: opex_production_total - opex_fuel\n",
    "- fixed_om = fix_var_om * fixed_v_total_ratio\n",
    "- variable_om = fix_var_om * var_v_total_ratio\n",
    "- fixed_om_mwh = fixed_om / net_generation_mwh_ferc1; if null, filled in with fixed_om_mwh_18_nems\n",
    "- fixed_om_mw = fixed_om / capacity_mw\n",
    "- variable_om_mwh = variable_om / net_generation_mwh_ferc1; if null, filled in with variable_om_mwh_18_nems\n",
    "- fix_var_om_mwh = opex_nofuel_ferc1 / net_generation_mwh_ferc1\n",
    "\n",
    "\n",
    "##### Data Flags\n",
    "[`Significant Heat Rate Discrepancy`] - a field indicating whether a plant fuel type contains units that have outlier heatrates. If a unit is more than one standard deviation away from the mean value for units of its same fuel type rate, the field will appear [`True`].\n",
    "\n",
    "[`Fixed/Variable O&M used NEMS?`] - a field indicating whether the given row used FERC Form 1 cost data or NEMS cost data. If NEMS were used, the field will appear [`True`].\n",
    "\n",
    "\n",
    "### <a id='part3'>Part 3: Emissions & Public Health Data</a>\n",
    "\n",
    "CEMS, or Continuous Emission Monitoring Systems, provide detailed information about gas, particulate matter and other pollutants that emanate from various point sources. Here, CEMS data on co2, so2, and nox emissions from generation units is combined with EIA plant data at the plant and unit level, separated by fuel type. \n",
    "\n",
    "Data on PM2.5 emissions comes from Argonne National Laboratory's GREET Model. The model's Electricity Generation Module table 2.1 contains PM2.5 emissions data in g/kwh at the grandularity of NERC region and technology type. The PM2.5 emissions data are mapped onto EIA and CEMS data by creating buckets of the same granularity.\n"
   ]
  },
  {
   "cell_type": "markdown",
   "metadata": {},
   "source": [
    "--------------"
   ]
  },
  {
   "cell_type": "markdown",
   "metadata": {},
   "source": [
    "## <a id='data_val'>Data Validation</a>"
   ]
  },
  {
   "cell_type": "markdown",
   "metadata": {},
   "source": [
    "### <a id='ferc-v-eia'>FERC Form 1 vs. EIA</a>"
   ]
  },
  {
   "cell_type": "markdown",
   "metadata": {},
   "source": [
    "The first test looks at the **validity of using EIA fuel percentage values to disaggregate FERC Form 1 data by fuel type.** \n",
    "\n",
    "\n",
    "The following hisograms compare the fuel fractions available in FERC Form 1 with the fuel fractions created by aggregating EIA data by plant and fuel type. The cost factors used in the calculation of MCOE rely on FERC Form 1 fixed and operating cost data broken down by plant and fuel type based on EIA fuel breakdown. To ensure that there is a degree of similarity between the percent breakdown of EIA fuel break down and FERC Form 1 breakdown, this histogram depicts the EIA percent / FERC Form 1 percent. FERC Form 1 has two fuel breakdowns, by MMBtu and by cost. The graph to the left divides EIA percents by FERC Form 1 MMBtu fuel fractions and on the right by cost fractions. The closer the value to 1, the more acurate the comparison."
   ]
  },
  {
   "cell_type": "code",
   "execution_count": null,
   "metadata": {},
   "outputs": [],
   "source": [
    "#plot_fuel_pct_check(merge_ferc1_eia_fuel_pcts(pudl_out))"
   ]
  },
  {
   "cell_type": "markdown",
   "metadata": {},
   "source": [
    "As we know, FERC Form 1 and EIA data don't always match up properly. The following graphs depict **the difference in FERC Form 1 and EIA-860/923 reporting on the these particular values:** [`capacity_mw`], [`opex_fuel`], [`total_mmbtu`], [`net_generation_mwh`], [`capacity_factor`], [`heat_rate_mmbtu_mwh`], [`fuel_cost_per_mwh`], [`fuel_cost_per_mmbtu`], used in the calculation of MCOE."
   ]
  },
  {
   "cell_type": "code",
   "execution_count": null,
   "metadata": {},
   "outputs": [],
   "source": [
    "plot_eia_v_ferc(pudl_out)"
   ]
  },
  {
   "cell_type": "markdown",
   "metadata": {},
   "source": [
    "### <a id='heatrate'>Heat Rate Comparison</a>"
   ]
  },
  {
   "cell_type": "code",
   "execution_count": null,
   "metadata": {},
   "outputs": [],
   "source": [
    "plot_heat_rate(pudl_out)"
   ]
  },
  {
   "cell_type": "markdown",
   "metadata": {},
   "source": [
    "### <a id='mcoe-validate'>Check the MCOE Compilation</a>"
   ]
  },
  {
   "cell_type": "markdown",
   "metadata": {},
   "source": [
    "this is a check to see the general shape of the fixed and variable O&M of the PUDL data is similar to NEMS"
   ]
  },
  {
   "cell_type": "code",
   "execution_count": null,
   "metadata": {},
   "outputs": [],
   "source": [
    "\n",
    "plant_non_nems = plant[~plant[['fix_var_is_NEMS']].astype(pd.BooleanDtype()).fix_var_is_NEMS]\n",
    "#plant_non_nems = plant_19[(~plant_19.fix_var_is_NEMS)]\n",
    "plt.hist(plant_non_nems.fix_var_om_mwh, density=True, cumulative=True, \n",
    "         range=(0,100), label='PUDL (Non-Nems)', alpha=.5,\n",
    "         bins=100);\n",
    "\n",
    "plt.hist((plant.fix_var_om_mwh_19_nems), density=True, cumulative=True, \n",
    "         range=(0,100), label='NEMS', alpha=.7,\n",
    "         bins=100);\n",
    "plt.xlabel('Non-Fuel OM $/MWh')\n",
    "plt.legend()\n",
    "plt.title(\"PUDL vs NEMS Non-Fuel OM Distribution\")\n",
    "plt.show()"
   ]
  },
  {
   "cell_type": "markdown",
   "metadata": {},
   "source": [
    "The following graph, we're simply plotting the components of MCOE against MCOE.\n",
    "This should be just a straight line... which it appears to be, so yay.\n",
    "The `mcoe` column has the least amount of records in it because it requires having both fuel cost data from EIA and fixed and variable cost data from FERC or NEMS."
   ]
  },
  {
   "cell_type": "code",
   "execution_count": null,
   "metadata": {},
   "outputs": [],
   "source": [
    "plot_mcoe_vs_nems(plant, #plant_19, \n",
    "                  x_cols=['mcoe'], y_cols=['fix_var_om_mwh','fuel_cost_mwh_eia923'], \n",
    "                  log=True, \n",
    "                  x_lim=(.1,1e5), y_lim=(.1,1e5),\n",
    "                  alt_title='MCOE v MCOE components'\n",
    "                 );"
   ]
  },
  {
   "cell_type": "markdown",
   "metadata": {},
   "source": [
    "Now we are getting into comparing the components of MCOE. First let's compare the fixed and variable dollars per MWh.\n",
    "Here are the plots"
   ]
  },
  {
   "cell_type": "code",
   "execution_count": null,
   "metadata": {},
   "outputs": [],
   "source": [
    "plot_mcoe_vs_nems(plant, \n",
    "                  x_cols=['fix_var_om_mwh'], y_cols=['fix_var_om_mwh_19_nems'], \n",
    "                  log=True, \n",
    "                  x_lim=(1,1e3), y_lim=(1,1e3),\n",
    "                  #fuels=['coal','gas']\n",
    "                 );\n",
    "plot_mcoe_vs_nems(plant_non_nems, \n",
    "                  x_cols=['fix_var_om_mwh'], y_cols=['fix_var_om_mwh_19_nems'], \n",
    "                  log=True, \n",
    "                  x_lim=(1,1e2), y_lim=(1,1e2),\n",
    "                  #fuels=['coal','gas']\n",
    "                 );"
   ]
  },
  {
   "cell_type": "code",
   "execution_count": null,
   "metadata": {},
   "outputs": [],
   "source": [
    "plot_mcoe_vs_nems(plant_non_nems, \n",
    "                  x_cols=['fixed_om_mwh'], y_cols=['fixed_om_mwh_19_nems'], \n",
    "                  log=True, \n",
    "                  x_lim=(1,1e3),\n",
    "                  y_lim=(1,1e3), \n",
    "                  #fuels=['coal','gas']\n",
    "                 );\n",
    "plot_mcoe_vs_nems(plant_non_nems, \n",
    "                  x_cols=['variable_om_mwh'], y_cols=['variable_om_mwh_19_nems'], \n",
    "                  log=True, \n",
    "                  x_lim=(.01,1e2),\n",
    "                  y_lim=(.01,1e2)\n",
    "                 );"
   ]
  },
  {
   "cell_type": "markdown",
   "metadata": {},
   "source": [
    "There are the total fixed and variable dollar amounts. They look quite reasonable against NEMS totals."
   ]
  },
  {
   "cell_type": "code",
   "execution_count": null,
   "metadata": {},
   "outputs": [],
   "source": [
    "plot_mcoe_vs_nems(plant, \n",
    "                  x_cols=['fix_var_om'], y_cols=['fix_var_om_19_nems'], \n",
    "                  log=True, \n",
    "                  x_lim=(1e5,1e9),\n",
    "                  y_lim=(1e5,1e9)\n",
    "                 );\n",
    "plot_mcoe_vs_nems(plant, \n",
    "                  x_cols=['fixed_om'], y_cols=['fixed_om_19_nems'], \n",
    "                  log=True, \n",
    "                  x_lim=(1e5,1e9),\n",
    "                  y_lim=(1e5,1e9)\n",
    "                 );\n",
    "plot_mcoe_vs_nems(plant,\n",
    "                  x_cols=['variable_om'], y_cols=['variable_om_19_nems'], \n",
    "                  log=True, \n",
    "                  x_lim=(1e5,1e9),\n",
    "                  y_lim=(1e5,1e9)\n",
    "                 );"
   ]
  },
  {
   "cell_type": "code",
   "execution_count": null,
   "metadata": {},
   "outputs": [],
   "source": [
    "plot_hist_annual(plant_non_nems, 'mcoe', \"MCOE $/MWh\")"
   ]
  },
  {
   "cell_type": "code",
   "execution_count": null,
   "metadata": {},
   "outputs": [],
   "source": [
    "plot_hist_annual(plant_filled, 'fix_var_om_mwh', \"O&M $/MWh\")"
   ]
  },
  {
   "cell_type": "code",
   "execution_count": null,
   "metadata": {},
   "outputs": [],
   "source": [
    "# this is a brief exploration of the split between fixed and variable costs from NEMS.\n",
    "# there are clear patterns/differences between coal and gas.\n",
    "# right now, we aren't using fuel type averages to break out fixed and variable costs\n",
    "# but we could for the records which don't have associated NEMS data\n",
    "\n",
    "nems = prep_nems(pudl_out)\n",
    "fuel_tpyes= nems.fuel_type_code_pudl.unique()\n",
    "#for fuel_type in fuel_tpyes:\n",
    "for fuel_type in ['gas','coal']:\n",
    "    df = nems[nems.fuel_type_code_pudl == fuel_type]\n",
    "    plt.hist(df.fixed_v_total_ratio, \n",
    "             range=(0,1),\n",
    "             weights=df.capacity_mw, \n",
    "             label=f'{fuel_type}',\n",
    "             bins=40\n",
    "            )\n",
    "    plt.title(f\"Fixed v Variable Non-Fuel O&M in NEMS for {fuel_type}\")\n",
    "    plt.xlabel(\"Ratio\")\n",
    "    plt.ylabel(\"Capacity MW\")\n",
    "    plt.legend(loc='upper left')\n",
    "    plt.show()"
   ]
  },
  {
   "cell_type": "code",
   "execution_count": null,
   "metadata": {},
   "outputs": [],
   "source": [
    "# quick exploration of mcoe\n",
    "plant = plant_filled\n",
    "plant_19 = plant[plant.report_year == 2019]\n",
    "logger.info(f'all 2019 records:    {len(plant_19)}')\n",
    "logger.info(f'2019 records w/ferc: {len(plant_19[plant_19.fix_var_om_mwh.notnull()])}')\n",
    "logger.info(f'2019 records w/nems: {len(plant_19[plant_19.fix_var_om_mwh_19_nems.notnull()])}')\n",
    "logger.info(f'2019 records w/eia:  {len(plant_19[plant_19.fuel_cost_mwh_eia923.notnull()])}')\n",
    "logger.info(f'2019 records w/moce: {len(plant_19[plant_19.mcoe.notnull()])}')"
   ]
  },
  {
   "cell_type": "code",
   "execution_count": null,
   "metadata": {},
   "outputs": [],
   "source": [
    "# quick exploration of capacity\n",
    "plant_19 = plant[plant.report_year == 2019]\n",
    "plant_19_coal_gas = plant_19[plant_19.fuel_type_code_pudl.isin(['coal','gas',])]\n",
    "logger.info(f'all 2019 capacity:    {(plant_19_coal_gas.capacity_mw.sum())/plant_19_coal_gas.capacity_mw.sum():.01%}')\n",
    "logger.info(f'2019 capacity w/ferc: {(plant_19_coal_gas[plant_19_coal_gas.fix_var_om_mwh.notnull()].capacity_mw.sum())/plant_19_coal_gas.capacity_mw.sum():.01%}')\n",
    "logger.info(f'2019 capacity w/nems: {(plant_19_coal_gas[plant_19_coal_gas.fix_var_om_mwh_19_nems.notnull()].capacity_mw.sum())/plant_19_coal_gas.capacity_mw.sum():.01%}')\n",
    "logger.info(f'2019 capacity w/eia:  {(plant_19_coal_gas[plant_19_coal_gas.fuel_cost_mwh_eia923.notnull()].capacity_mw.sum())/plant_19_coal_gas.capacity_mw.sum():.01%}')\n",
    "logger.info(f'2019 capacity w/mcoe: {(plant_19_coal_gas[plant_19_coal_gas.mcoe.notnull()].capacity_mw.sum())/plant_19_coal_gas.capacity_mw.sum():.01%}')"
   ]
  },
  {
   "cell_type": "code",
   "execution_count": null,
   "metadata": {},
   "outputs": [],
   "source": [
    "# capacity coverage\n",
    "plant_19[plant_19.mcoe.notnull()].capacity_mw.sum()/plant_19[plant_19.fuel_type_code_pudl.isin(['coal','gas'])].capacity_mw.sum()"
   ]
  },
  {
   "cell_type": "code",
   "execution_count": null,
   "metadata": {},
   "outputs": [],
   "source": [
    "# net generation coverage\n",
    "plant_19[plant_19.mcoe.notnull()].net_generation_mwh.sum()/plant_19[plant_19.fuel_type_code_pudl.isin(['coal','gas'])].net_generation_mwh.sum()"
   ]
  },
  {
   "cell_type": "code",
   "execution_count": null,
   "metadata": {},
   "outputs": [],
   "source": [
    "# coal capacity coverage\n",
    "(plant_19[(plant_19.mcoe.notnull())\n",
    "          & plant_19.fuel_type_code_pudl.isin(['coal'])\n",
    "         ].capacity_mw.sum()\n",
    " /plant_19[(plant_19.fuel_type_code_pudl.isin(['coal']))].capacity_mw.sum())"
   ]
  },
  {
   "cell_type": "code",
   "execution_count": null,
   "metadata": {},
   "outputs": [],
   "source": []
  },
  {
   "cell_type": "code",
   "execution_count": null,
   "metadata": {},
   "outputs": [],
   "source": []
  },
  {
   "cell_type": "code",
   "execution_count": null,
   "metadata": {},
   "outputs": [],
   "source": []
  },
  {
   "cell_type": "code",
   "execution_count": null,
   "metadata": {},
   "outputs": [],
   "source": []
  },
  {
   "cell_type": "code",
   "execution_count": null,
   "metadata": {},
   "outputs": [],
   "source": []
  },
  {
   "cell_type": "code",
   "execution_count": null,
   "metadata": {},
   "outputs": [],
   "source": []
  },
  {
   "cell_type": "code",
   "execution_count": null,
   "metadata": {},
   "outputs": [],
   "source": [
    "#id_pudl = 661\n",
    "#id_pudl = 411 # NS\n",
    "id_pudl = 1\n",
    "cols_plant = ['plant_id_pudl', 'plant_id_eia', 'plant_name_eia', 'fuel_type_code_pudl', 'generator_id']"
   ]
  },
  {
   "cell_type": "code",
   "execution_count": null,
   "metadata": {},
   "outputs": [],
   "source": [
    "#plant[plant.plant_id_pudl == id_pudl].set_index(cols_plant)"
   ]
  },
  {
   "cell_type": "code",
   "execution_count": null,
   "metadata": {},
   "outputs": [],
   "source": [
    "plants_steam_ferc1 = pudl_out.plants_steam_ferc1()\n",
    "g = pudl_out.gens_eia860()\n",
    "m = pudl_out.mcoe()"
   ]
  },
  {
   "cell_type": "code",
   "execution_count": null,
   "metadata": {},
   "outputs": [],
   "source": [
    "cols_fp = ['plant_id_pudl', 'plant_name_ferc1', 'utility_name_ferc1','report_year']"
   ]
  },
  {
   "cell_type": "code",
   "execution_count": null,
   "metadata": {},
   "outputs": [],
   "source": [
    "ps[(ps.plant_id_pudl == id_pudl)\n",
    "   & (ps.report_year == 2019)\n",
    "  ].set_index(cols_fp)[\n",
    "    ['net_generation_mwh', 'opex_fuel', 'opex_production_total', ]\n",
    "].assign(opex_nofuel_ferc1=lambda x: (x.opex_production_total -\n",
    "                                             x.opex_fuel),\n",
    "                fix_var_om_mwh=lambda x: (\n",
    "                    x.opex_nofuel_ferc1 / x.net_generation_mwh)\n",
    "                )\n",
    "#[['capacity_mw','plant_type','installation_year']]"
   ]
  },
  {
   "cell_type": "code",
   "execution_count": null,
   "metadata": {},
   "outputs": [],
   "source": [
    "input_dict['plant_index_cols']"
   ]
  },
  {
   "cell_type": "code",
   "execution_count": null,
   "metadata": {},
   "outputs": [],
   "source": [
    "mask_dolet_hills_2019 = (plants_steam_ferc1.plant_id_pudl == id_pudl) & (plants_steam_ferc1.report_year == 2019)"
   ]
  },
  {
   "cell_type": "code",
   "execution_count": null,
   "metadata": {},
   "outputs": [],
   "source": [
    "(\n",
    "    plants_steam_ferc1\n",
    "    [mask_dolet_hills_2019]\n",
    "    .groupby(['plant_id_pudl', 'report_year'], as_index=False)\n",
    "    [['opex_fuel','opex_production_total','net_generation_mwh']]\n",
    "    .sum(min_count=1)\n",
    "    .assign(\n",
    "        opex_nofuel_ferc1=lambda x: (\n",
    "            x.opex_production_total - x.opex_fuel),\n",
    "        fix_var_om_mwh=lambda x: (\n",
    "                x.opex_nofuel_ferc1 / x.net_generation_mwh)\n",
    "    )\n",
    ")"
   ]
  },
  {
   "cell_type": "code",
   "execution_count": null,
   "metadata": {},
   "outputs": [],
   "source": [
    "g[(g.plant_id_pudl == id_pudl)\n",
    "  & (g.report_date.dt.year == 2019)\n",
    " ].set_index(cols_plant)[['capacity_mw','utility_name_eia','operating_date', 'prime_mover_code','operational_status', 'latitude', 'longitude']]\n",
    "#.capacity_mw.sum()\n",
    "#.report_date.dt.year.unique()"
   ]
  },
  {
   "cell_type": "code",
   "execution_count": null,
   "metadata": {},
   "outputs": [],
   "source": [
    "g[(g.plant_id_pudl == id_pudl)\n",
    "  #& (g.report_date.dt.year == 2019)\n",
    " ][cols_plant].drop_duplicates()"
   ]
  },
  {
   "cell_type": "code",
   "execution_count": null,
   "metadata": {},
   "outputs": [],
   "source": [
    "g[(g.plant_id_eia == 55958)\n",
    "  #& (g.report_date.dt.year == 2019)\n",
    " ]#[cols_plant].drop_duplicates()"
   ]
  },
  {
   "cell_type": "code",
   "execution_count": null,
   "metadata": {},
   "outputs": [],
   "source": [
    "m[(m.plant_id_pudl == id_pudl) & (m.report_date.dt.year == 2019)]"
   ]
  },
  {
   "cell_type": "code",
   "execution_count": null,
   "metadata": {},
   "outputs": [],
   "source": [
    "g[(g.plant_id_eia.isin([58378,2357])) & (g.report_date.dt.year == 2019)]"
   ]
  },
  {
   "cell_type": "code",
   "execution_count": null,
   "metadata": {},
   "outputs": [],
   "source": [
    "g[(g.plant_name_eia.str.contains('Dolet Hills')) & (g.report_date.dt.year == 2019)].set_index(cols_plant)[['city', 'state', 'latitude', 'longitude', 'capacity_mw']]"
   ]
  },
  {
   "cell_type": "code",
   "execution_count": null,
   "metadata": {},
   "outputs": [],
   "source": [
    "#ps[ps.plant_name_ferc1.str.contains('arish')]"
   ]
  },
  {
   "cell_type": "code",
   "execution_count": null,
   "metadata": {},
   "outputs": [],
   "source": []
  }
 ],
 "metadata": {
  "kernelspec": {
   "display_name": "Python 3 (ipykernel)",
   "language": "python",
   "name": "python3"
  },
  "language_info": {
   "codemirror_mode": {
    "name": "ipython",
    "version": 3
   },
   "file_extension": ".py",
   "mimetype": "text/x-python",
   "name": "python",
   "nbconvert_exporter": "python",
   "pygments_lexer": "ipython3",
   "version": "3.9.7"
  }
 },
 "nbformat": 4,
 "nbformat_minor": 4
}

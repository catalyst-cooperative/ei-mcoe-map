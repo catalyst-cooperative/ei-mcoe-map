{
 "cells": [
  {
   "cell_type": "markdown",
   "metadata": {},
   "source": [
    "## Energy Innovation MCOE Compilation\n",
    "\n",
    "- <a href=#setup>Setup</a>\n",
    "- <a href=#data_out>Data Outputs</a>\n",
    "    * <a href=#final-plant>Plant Level Output</a>\n",
    "    * <a href=#final-unit>Unit Level Output</a>\n",
    "    * <a href=#export>Export to CSV</a>\n",
    "- <a href=#data_comp>Data Components</a>\n",
    "    * <a href=#part1>Part 1: Basic Plant & Unit Information</a>\n",
    "    * <a href=#part2>Part 2: Cost Data</a>\n",
    "    * <a href=#part3>Part 3: Emissions & Public Health Data</a>\n",
    "- <a href=#data_val>Data Validation</a>\n",
    "    * <a href=#ferc-v-eia>FERC Form 1 vs. EIA</a>\n",
    "    * <a href=#mcoe-validate>MCOE Validation</a>"
   ]
  },
  {
   "cell_type": "markdown",
   "metadata": {},
   "source": [
    "-------------"
   ]
  },
  {
   "cell_type": "markdown",
   "metadata": {},
   "source": [
    "## <a id='setup'>Setup</a>"
   ]
  },
  {
   "cell_type": "code",
   "execution_count": null,
   "metadata": {},
   "outputs": [],
   "source": [
    "%load_ext autoreload\n",
    "%autoreload 2"
   ]
  },
  {
   "cell_type": "code",
   "execution_count": null,
   "metadata": {},
   "outputs": [],
   "source": [
    "# If you're running this notebook on our Jupyterhub, uncomment this line to install the EI MCOE specific code:\n",
    "# !pip install -e ../"
   ]
  },
  {
   "cell_type": "code",
   "execution_count": null,
   "metadata": {},
   "outputs": [],
   "source": [
    "import pudl\n",
    "\n",
    "import sqlalchemy as sa\n",
    "import ei_mcoe\n",
    "from ei_mcoe import OUTPUTS_DIR\n",
    "from ei_mcoe.ei_mcoe import *\n",
    "import sys\n",
    "import os\n",
    "import matplotlib.pyplot as plt\n",
    "import logging\n",
    "from datetime import datetime\n",
    "\n",
    "from copy import deepcopy"
   ]
  },
  {
   "cell_type": "code",
   "execution_count": null,
   "metadata": {},
   "outputs": [],
   "source": [
    "# basic setup for logging\n",
    "logger = logging.getLogger()\n",
    "logger.setLevel(logging.INFO)\n",
    "handler = logging.StreamHandler(stream=sys.stdout)\n",
    "formatter = logging.Formatter('%(message)s')\n",
    "handler.setFormatter(formatter)\n",
    "logger.handlers = [handler]\n",
    "pd.options.display.max_columns = None"
   ]
  },
  {
   "cell_type": "code",
   "execution_count": null,
   "metadata": {},
   "outputs": [],
   "source": [
    "pudl_settings = pudl.workspace.setup.get_defaults()\n",
    "pudl_engine = sa.create_engine(pudl_settings['pudl_db'])"
   ]
  },
  {
   "cell_type": "code",
   "execution_count": null,
   "metadata": {},
   "outputs": [],
   "source": [
    "# Without these API keys, the analysis will fail.\n",
    "# You can set them here in the notebook if need be by uncommenting these lines and adding your API keys:\n",
    "#os.environ['API_KEY_EIA'] = \"your-eia-api-key-goes-here\"\n",
    "#os.environ['API_KEY_FRED'] = \"your-fred-api-key-goes-here\"\n",
    "assert os.environ.get('API_KEY_EIA')\n",
    "assert os.environ.get('API_KEY_FRED')"
   ]
  },
  {
   "cell_type": "code",
   "execution_count": null,
   "metadata": {},
   "outputs": [],
   "source": [
    "pudl_out = pudl.output.pudltabl.PudlTabl(\n",
    "    pudl_engine,\n",
    "    start_date='2019-01-01',\n",
    "    end_date='2020-12-31',\n",
    "    freq='AS',\n",
    "    fill_fuel_cost=True,\n",
    "    roll_fuel_cost=True,\n",
    "    fill_net_gen=False,\n",
    ")"
   ]
  },
  {
   "cell_type": "markdown",
   "metadata": {},
   "source": [
    "## <a id='data_out'>Data Outputs</a>"
   ]
  },
  {
   "cell_type": "code",
   "execution_count": null,
   "metadata": {},
   "outputs": [],
   "source": [
    "%%time\n",
    "cems_df = get_cems(pudl_settings, years=[2019, 2020])"
   ]
  },
  {
   "cell_type": "markdown",
   "metadata": {},
   "source": [
    "### <a id='final-plant'>Plant Level Output</a>"
   ]
  },
  {
   "cell_type": "code",
   "execution_count": null,
   "metadata": {
    "tags": []
   },
   "outputs": [],
   "source": [
    "%%time\n",
    "# beware - this takes several minutes run!!\n",
    "mcoe_plant = main(pudl_out, cems_df, 'plant-fuel', separate_nems_cols=True, fill_in_fuel_cost=True)"
   ]
  },
  {
   "cell_type": "code",
   "execution_count": null,
   "metadata": {},
   "outputs": [],
   "source": [
    "%%time\n",
    "mcoe_plant[\n",
    "    (mcoe_plant.report_date.dt.year == NEMS_YEAR)\n",
    "    & (mcoe_plant.fuel_type_code_pudl == 'coal')\n",
    "].groupby(['confidence_tier'], dropna=False)[['plant_id_eia']].count()"
   ]
  },
  {
   "cell_type": "markdown",
   "metadata": {},
   "source": [
    "### <a id='final-unit'>Unit Level Output</a>"
   ]
  },
  {
   "cell_type": "code",
   "execution_count": null,
   "metadata": {},
   "outputs": [],
   "source": [
    "# unit = main(pudl_out, cems_df, 'unit-fuel', separate_nems_cols=True)"
   ]
  },
  {
   "cell_type": "markdown",
   "metadata": {},
   "source": [
    "### <a id='export'>Export to CSV</a>"
   ]
  },
  {
   "cell_type": "code",
   "execution_count": null,
   "metadata": {},
   "outputs": [],
   "source": [
    "%%time\n",
    "mcoe_plant_year = mcoe_plant[mcoe_plant.report_year == NEMS_YEAR]\n",
    "source_df = generate_source_df()\n",
    "\n",
    "mcoe_plant_year.to_csv(OUTPUTS_DIR / f\"mcoe_compilation_{NEMS_YEAR}_{datetime.today().strftime('%Y-%m-%d')}.csv\", index=False)\n",
    "source_df.to_csv(OUTPUTS_DIR / 'mcoe_documentation.csv', index=False)"
   ]
  },
  {
   "cell_type": "markdown",
   "metadata": {},
   "source": [
    "-------------------------"
   ]
  },
  {
   "cell_type": "markdown",
   "metadata": {},
   "source": [
    "## <a id='data_comp'>Data Components</a>"
   ]
  },
  {
   "cell_type": "markdown",
   "metadata": {},
   "source": [
    "### <a id='part1'>Part 1: Plant & Unit Level Data</a>\n",
    "EIA-860 and EIA-923 generator-level data is aggregated by either plant or unit and subdivided by broad fuel type (coal, gas, oil, waste). \n",
    "[`Age`] is calculated by finding the weighted average (capacity as weight) of the generators in a given aggregation. \n",
    "[`Heat Rate`] is also calculated by weighted average (this time with net generation as weight). \n",
    "[`MW Nameplate Capacity`] and [`Annual Electricity Net Generation MWh`] at a given level of aggregation are calculated by summing generator-level data. \n",
    "\n",
    "For purely qualitative information (just plant name and location) add [`drop_calcs=True`] to the parameters.\n",
    "\n",
    "### <a id='part2'>Part 2: Cost Data</a>\n",
    "Cost and generation data from EIA-860, EIA-923, and FERC Form 1 are subdivided by plant and broad fuel type. The fuel-type breakdown for FERC Form 1 plants is determined by the EIA fuel breakdown for plants of the same PUDL Plant Code. For missing fixed and variable costs from 2018, we've input data from NEMS as a substitute. MCOE is calculated using data from the following sources:\n",
    "\n",
    "##### NEMS Variable Origins\n",
    "- net_generation_mwh_nems = capacity_factor * 8760 * capacity_mw\n",
    "- fixed_om_18_nems = fixed_om_kw_18_nems * 1000 * capacity_mw\n",
    "- fixed_om_mwh_18_nems = fixed_om_18_nems / net_generation_mwh_nems\n",
    "- variable_om_18_nems = variable_om_mwh_18_nems * net_generation_mwh_nems\n",
    "- fix_var_om_mwh_18_nems = variable_om_mwh_18_nems + fixed_om_kw_18_nems\n",
    "- fixed_v_total_ratio = fixed_om_18_nems / (fixed_om_18_nems + variable_om_18_nems)\n",
    "- var_v_total_ratio = variable_om_18_nems / (fixed_om_18_nems + variable_om_18_nems)\n",
    "- fix_var_om_18_nems =  fixed_om_18_nems + variable_om_18_nems\n",
    "- fix_var_om_mwh_18_nems = fixed_om_mwh_18_nems + variable_om_mwh_18_nems\n",
    "\n",
    "##### MCOE Variable Origins \n",
    "- total_fuel_cost (Fuel cost) **EIA-923**\n",
    "- capacity_mw (MW Capacity) **EIA-860**\n",
    "- net_generation_mwh (Net MWh Generated) **EIA-923**: \n",
    "- opex_nofuel_ferc1 (Non-Fuel O&M) = **FERC Form 1**: opex_production_total - opex_fuel\n",
    "- fixed_om = fix_var_om * fixed_v_total_ratio\n",
    "- variable_om = fix_var_om * var_v_total_ratio\n",
    "- fixed_om_mwh = fixed_om / net_generation_mwh_ferc1; if null, filled in with fixed_om_mwh_18_nems\n",
    "- fixed_om_mw = fixed_om / capacity_mw\n",
    "- variable_om_mwh = variable_om / net_generation_mwh_ferc1; if null, filled in with variable_om_mwh_18_nems\n",
    "- fix_var_om_mwh = opex_nofuel_ferc1 / net_generation_mwh_ferc1\n",
    "\n",
    "\n",
    "##### Data Flags\n",
    "[`Significant Heat Rate Discrepancy`] - a field indicating whether a plant fuel type contains units that have outlier heatrates. If a unit is more than one standard deviation away from the mean value for units of its same fuel type rate, the field will appear [`True`].\n",
    "\n",
    "[`Fixed/Variable O&M used NEMS?`] - a field indicating whether the given row used FERC Form 1 cost data or NEMS cost data. If NEMS were used, the field will appear [`True`].\n",
    "\n",
    "\n",
    "### <a id='part3'>Part 3: Emissions & Public Health Data</a>\n",
    "\n",
    "CEMS, or Continuous Emission Monitoring Systems, provide detailed information about gas, particulate matter and other pollutants that emanate from various point sources. Here, CEMS data on co2, so2, and nox emissions from generation units is combined with EIA plant data at the plant and unit level, separated by fuel type. \n",
    "\n",
    "Data on PM2.5 emissions comes from Argonne National Laboratory's GREET Model. The model's Electricity Generation Module table 2.1 contains PM2.5 emissions data in g/kwh at the grandularity of NERC region and technology type. The PM2.5 emissions data are mapped onto EIA and CEMS data by creating buckets of the same granularity.\n"
   ]
  },
  {
   "cell_type": "markdown",
   "metadata": {},
   "source": [
    "--------------"
   ]
  },
  {
   "cell_type": "markdown",
   "metadata": {},
   "source": [
    "## <a id='data_val'>Data Validation</a>"
   ]
  },
  {
   "cell_type": "markdown",
   "metadata": {},
   "source": [
    "### <a id='ferc-v-eia'>FERC Form 1 vs. EIA</a>"
   ]
  },
  {
   "cell_type": "markdown",
   "metadata": {},
   "source": [
    "The first test looks at the **validity of using EIA fuel percentage values to disaggregate FERC Form 1 data by fuel type.** \n",
    "\n",
    "\n",
    "The following hisograms compare the fuel fractions available in FERC Form 1 with the fuel fractions created by aggregating EIA data by plant and fuel type. The cost factors used in the calculation of MCOE rely on FERC Form 1 fixed and operating cost data broken down by plant and fuel type based on EIA fuel breakdown. To ensure that there is a degree of similarity between the percent breakdown of EIA fuel break down and FERC Form 1 breakdown, this histogram depicts the EIA percent / FERC Form 1 percent. FERC Form 1 has two fuel breakdowns, by MMBtu and by cost. The graph to the left divides EIA percents by FERC Form 1 MMBtu fuel fractions and on the right by cost fractions. The closer the value to 1, the more acurate the comparison."
   ]
  },
  {
   "cell_type": "code",
   "execution_count": null,
   "metadata": {},
   "outputs": [],
   "source": [
    "#plot_fuel_pct_check(merge_ferc1_eia_fuel_pcts(pudl_out))"
   ]
  },
  {
   "cell_type": "markdown",
   "metadata": {},
   "source": [
    "As we know, FERC Form 1 and EIA data don't always match up properly. The following graphs depict **the difference in FERC Form 1 and EIA-860/923 reporting on the these particular values:** [`capacity_mw`], [`opex_fuel`], [`total_mmbtu`], [`net_generation_mwh`], [`capacity_factor`], [`heat_rate_mmbtu_mwh`], [`fuel_cost_per_mwh`], [`fuel_cost_per_mmbtu`], used in the calculation of MCOE."
   ]
  },
  {
   "cell_type": "code",
   "execution_count": null,
   "metadata": {},
   "outputs": [],
   "source": [
    "plot_eia_v_ferc(pudl_out)"
   ]
  },
  {
   "cell_type": "markdown",
   "metadata": {},
   "source": [
    "### <a id='heatrate'>Heat Rate Comparison</a>"
   ]
  },
  {
   "cell_type": "code",
   "execution_count": null,
   "metadata": {},
   "outputs": [],
   "source": [
    "plot_heat_rate(pudl_out)"
   ]
  },
  {
   "cell_type": "markdown",
   "metadata": {},
   "source": [
    "### <a id='mcoe-validate'>Check the MCOE Compilation</a>"
   ]
  },
  {
   "cell_type": "markdown",
   "metadata": {},
   "source": [
    "this is a check to see the general shape of the fixed and variable O&M of the PUDL data is similar to NEMS"
   ]
  },
  {
   "cell_type": "code",
   "execution_count": null,
   "metadata": {},
   "outputs": [],
   "source": [
    "\n",
    "plant_non_nems = mcoe_plant[~mcoe_plant[['fix_var_is_NEMS']].astype(pd.BooleanDtype()).fix_var_is_NEMS]\n",
    "#plant_non_nems = plant_19[(~plant_19.fix_var_is_NEMS)]\n",
    "plt.hist(plant_non_nems.fix_var_om_mwh, density=True, cumulative=True, \n",
    "         range=(0,100), label='PUDL (Non-Nems)', alpha=.5,\n",
    "         bins=100);\n",
    "\n",
    "plt.hist((mcoe_plant.fix_var_om_mwh_19_nems), density=True, cumulative=True, \n",
    "         range=(0,100), label='NEMS', alpha=.7,\n",
    "         bins=100);\n",
    "plt.xlabel('Non-Fuel OM $/MWh')\n",
    "plt.legend()\n",
    "plt.title(\"PUDL vs NEMS Non-Fuel OM Distribution\")\n",
    "plt.show()"
   ]
  },
  {
   "cell_type": "markdown",
   "metadata": {},
   "source": [
    "The following graph, we're simply plotting the components of MCOE against MCOE.\n",
    "This should be just a straight line... which it appears to be, so yay.\n",
    "The `mcoe` column has the least amount of records in it because it requires having both fuel cost data from EIA and fixed and variable cost data from FERC or NEMS."
   ]
  },
  {
   "cell_type": "code",
   "execution_count": null,
   "metadata": {},
   "outputs": [],
   "source": [
    "plot_mcoe_vs_nems(mcoe_plant,\n",
    "                  x_cols=['mcoe'], y_cols=['fix_var_om_mwh','fuel_cost_mwh_eia923'], \n",
    "                  log=True, \n",
    "                  x_lim=(.1,1e5), y_lim=(.1,1e5),\n",
    "                  alt_title='MCOE v MCOE components'\n",
    "                 );"
   ]
  },
  {
   "cell_type": "markdown",
   "metadata": {},
   "source": [
    "Now we are getting into comparing the components of MCOE. First let's compare the fixed and variable dollars per MWh.\n",
    "Here are the plots"
   ]
  },
  {
   "cell_type": "code",
   "execution_count": null,
   "metadata": {},
   "outputs": [],
   "source": [
    "plot_mcoe_vs_nems(mcoe_plant, \n",
    "                  x_cols=['fix_var_om_mwh'], y_cols=['fix_var_om_mwh_19_nems'], \n",
    "                  log=True, \n",
    "                  x_lim=(1,1e3), y_lim=(1,1e3),\n",
    "                  #fuels=['coal','gas']\n",
    "                 );\n",
    "plot_mcoe_vs_nems(plant_non_nems, \n",
    "                  x_cols=['fix_var_om_mwh'], y_cols=['fix_var_om_mwh_19_nems'], \n",
    "                  log=True, \n",
    "                  x_lim=(1,1e2), y_lim=(1,1e2),\n",
    "                  #fuels=['coal','gas']\n",
    "                 );"
   ]
  },
  {
   "cell_type": "code",
   "execution_count": null,
   "metadata": {},
   "outputs": [],
   "source": [
    "plot_mcoe_vs_nems(plant_non_nems, \n",
    "                  x_cols=['fixed_om_mwh'], y_cols=['fixed_om_mwh_19_nems'], \n",
    "                  log=True, \n",
    "                  x_lim=(1,1e3),\n",
    "                  y_lim=(1,1e3), \n",
    "                  #fuels=['coal','gas']\n",
    "                 );\n",
    "plot_mcoe_vs_nems(plant_non_nems, \n",
    "                  x_cols=['variable_om_mwh'], y_cols=['variable_om_mwh_19_nems'], \n",
    "                  log=True, \n",
    "                  x_lim=(.01,1e2),\n",
    "                  y_lim=(.01,1e2)\n",
    "                 );"
   ]
  },
  {
   "cell_type": "markdown",
   "metadata": {},
   "source": [
    "There are the total fixed and variable dollar amounts. They look quite reasonable against NEMS totals."
   ]
  },
  {
   "cell_type": "code",
   "execution_count": null,
   "metadata": {},
   "outputs": [],
   "source": [
    "plot_mcoe_vs_nems(mcoe_plant, \n",
    "                  x_cols=['fix_var_om'], y_cols=['fix_var_om_19_nems'], \n",
    "                  log=True, \n",
    "                  x_lim=(1e5,1e9),\n",
    "                  y_lim=(1e5,1e9)\n",
    "                 );\n",
    "plot_mcoe_vs_nems(mcoe_plant, \n",
    "                  x_cols=['fixed_om'], y_cols=['fixed_om_19_nems'], \n",
    "                  log=True, \n",
    "                  x_lim=(1e5,1e9),\n",
    "                  y_lim=(1e5,1e9)\n",
    "                 );\n",
    "plot_mcoe_vs_nems(mcoe_plant,\n",
    "                  x_cols=['variable_om'], y_cols=['variable_om_19_nems'], \n",
    "                  log=True, \n",
    "                  x_lim=(1e5,1e9),\n",
    "                  y_lim=(1e5,1e9)\n",
    "                 );"
   ]
  },
  {
   "cell_type": "code",
   "execution_count": null,
   "metadata": {},
   "outputs": [],
   "source": [
    "plot_hist_annual(plant_non_nems, 'mcoe', \"MCOE $/MWh\")"
   ]
  },
  {
   "cell_type": "code",
   "execution_count": null,
   "metadata": {},
   "outputs": [],
   "source": [
    "plot_hist_annual(mcoe_plant, 'fix_var_om_mwh', \"Total O&M Costs [$/MWh]\")"
   ]
  },
  {
   "cell_type": "code",
   "execution_count": null,
   "metadata": {},
   "outputs": [],
   "source": [
    "# this is a brief exploration of the split between fixed and variable costs from NEMS.\n",
    "# there are clear patterns/differences between coal and gas.\n",
    "# right now, we aren't using fuel type averages to break out fixed and variable costs\n",
    "# but we could for the records which don't have associated NEMS data\n",
    "\n",
    "nems = prep_nems(pudl_out)\n",
    "fuel_tpyes= nems.fuel_type_code_pudl.unique()\n",
    "#for fuel_type in fuel_tpyes:\n",
    "for fuel_type in ['gas','coal']:\n",
    "    df = nems[nems.fuel_type_code_pudl == fuel_type]\n",
    "    plt.hist(df.fixed_v_total_ratio, \n",
    "             range=(0,1),\n",
    "             weights=df.capacity_mw, \n",
    "             label=f'{fuel_type}',\n",
    "             bins=40\n",
    "            )\n",
    "    plt.title(f\"Fixed v Variable Non-Fuel O&M in NEMS for {fuel_type}\")\n",
    "    plt.xlabel(\"Ratio\")\n",
    "    plt.ylabel(\"Capacity MW\")\n",
    "    plt.legend(loc='upper left')\n",
    "    plt.show()"
   ]
  },
  {
   "cell_type": "code",
   "execution_count": null,
   "metadata": {},
   "outputs": [],
   "source": [
    "# quick exploration of mcoe\n",
    "plants_all = mcoe_plant[mcoe_plant.report_year == NEMS_YEAR]\n",
    "logger.info(f'all {NEMS_YEAR} records:    {len(plants_all)}')\n",
    "logger.info(f'{NEMS_YEAR} records w/ferc: {len(plants_all[plants_all.fix_var_om_mwh.notnull()])}')\n",
    "logger.info(f'{NEMS_YEAR} records w/nems: {len(plants_all[plants_all.fix_var_om_mwh_19_nems.notnull()])}')\n",
    "logger.info(f'{NEMS_YEAR} records w/eia:  {len(plants_all[plants_all.fuel_cost_mwh_eia923.notnull()])}')\n",
    "logger.info(f'{NEMS_YEAR} records w/moce: {len(plants_all[plants_all.mcoe.notnull()])}')"
   ]
  },
  {
   "cell_type": "code",
   "execution_count": null,
   "metadata": {},
   "outputs": [],
   "source": [
    "# quick exploration of capacity\n",
    "plants_coal_gas = plants_all[plants_all.fuel_type_code_pudl.isin(['coal','gas',])]\n",
    "logger.info(f'all {NEMS_YEAR} capacity:    {(plants_coal_gas.capacity_mw.sum())/plants_coal_gas.capacity_mw.sum():.01%}')\n",
    "logger.info(f'{NEMS_YEAR} capacity w/ferc: {(plants_coal_gas[plants_coal_gas.fix_var_om_mwh.notnull()].capacity_mw.sum())/plants_coal_gas.capacity_mw.sum():.01%}')\n",
    "logger.info(f'{NEMS_YEAR} capacity w/nems: {(plants_coal_gas[plants_coal_gas.fix_var_om_mwh_19_nems.notnull()].capacity_mw.sum())/plants_coal_gas.capacity_mw.sum():.01%}')\n",
    "logger.info(f'{NEMS_YEAR} capacity w/eia:  {(plants_coal_gas[plants_coal_gas.fuel_cost_mwh_eia923.notnull()].capacity_mw.sum())/plants_coal_gas.capacity_mw.sum():.01%}')\n",
    "logger.info(f'{NEMS_YEAR} capacity w/mcoe: {(plants_coal_gas[plants_coal_gas.mcoe.notnull()].capacity_mw.sum())/plants_coal_gas.capacity_mw.sum():.01%}')"
   ]
  },
  {
   "cell_type": "code",
   "execution_count": null,
   "metadata": {},
   "outputs": [],
   "source": [
    "# capacity coverage\n",
    "plants_all[plants_all.mcoe.notnull()].capacity_mw.sum()/plants_all[plants_all.fuel_type_code_pudl.isin(['coal','gas'])].capacity_mw.sum()"
   ]
  },
  {
   "cell_type": "code",
   "execution_count": null,
   "metadata": {},
   "outputs": [],
   "source": [
    "# net generation coverage\n",
    "plants_all[plants_all.mcoe.notnull()].net_generation_mwh.sum()/plants_all[plants_all.fuel_type_code_pudl.isin(['coal','gas'])].net_generation_mwh.sum()"
   ]
  },
  {
   "cell_type": "code",
   "execution_count": null,
   "metadata": {},
   "outputs": [],
   "source": [
    "# coal capacity coverage\n",
    "(plants_all[(plants_all.mcoe.notnull())\n",
    "          & plants_all.fuel_type_code_pudl.isin(['coal'])\n",
    "         ].capacity_mw.sum()\n",
    " /plants_all[(plants_all.fuel_type_code_pudl.isin(['coal']))].capacity_mw.sum())"
   ]
  },
  {
   "cell_type": "code",
   "execution_count": null,
   "metadata": {},
   "outputs": [],
   "source": []
  }
 ],
 "metadata": {
  "kernelspec": {
   "display_name": "Python 3 (ipykernel)",
   "language": "python",
   "name": "python3"
  },
  "language_info": {
   "codemirror_mode": {
    "name": "ipython",
    "version": 3
   },
   "file_extension": ".py",
   "mimetype": "text/x-python",
   "name": "python",
   "nbconvert_exporter": "python",
   "pygments_lexer": "ipython3",
   "version": "3.9.7"
  }
 },
 "nbformat": 4,
 "nbformat_minor": 4
}
